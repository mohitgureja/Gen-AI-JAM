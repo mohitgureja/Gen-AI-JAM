{
 "cells": [
  {
   "cell_type": "code",
   "execution_count": 34,
   "outputs": [
    {
     "data": {
      "text/plain": "True"
     },
     "execution_count": 34,
     "metadata": {},
     "output_type": "execute_result"
    }
   ],
   "source": [
    "from langchain_openai import OpenAIEmbeddings\n",
    "# from langchain_community.vectorstores import FAISS\n",
    "# from langchain.document_loaders.json_loader import JSONLoader\n",
    "# from langchain.document_loaders import DirectoryLoader, TextLoader\n",
    "from sklearn.cluster import KMeans\n",
    "import matplotlib.pyplot as plt\n",
    "import warnings\n",
    "warnings.filterwarnings('ignore')\n",
    "from dotenv import load_dotenv\n",
    "import os\n",
    "import json\n",
    "\n",
    "# Load the environment variables\n",
    "load_dotenv()"
   ],
   "metadata": {
    "collapsed": false,
    "ExecuteTime": {
     "end_time": "2024-03-14T13:19:11.015444Z",
     "start_time": "2024-03-14T13:19:11.003758Z"
    }
   }
  },
  {
   "cell_type": "markdown",
   "source": [
    "# Load the data"
   ],
   "metadata": {
    "collapsed": false
   }
  },
  {
   "cell_type": "code",
   "execution_count": 35,
   "outputs": [],
   "source": [
    "directory = \"test/test\"\n",
    "# loader = DirectoryLoader(directory, glob='**/*.json', show_progress=True, loader_cls=TextLoader)\n",
    "# data_full_text = loader.load()\n",
    "# len(data_full_text)\n",
    "data_full_text = []\n",
    "for filename in os.listdir(directory):\n",
    "    text = {}\n",
    "    if filename.endswith('.json'):\n",
    "        with open(os.path.join(directory, filename), 'r') as json_file:\n",
    "            data = json.load(json_file)\n",
    "            ocr_texts = [ocr['text'] for ocr in data['0']['ocr']]\n",
    "            concatenated_text = '\\n'.join(ocr_texts)\n",
    "            data_full_text.append({\"source\": filename, \"text\": concatenated_text})\n"
   ],
   "metadata": {
    "collapsed": false,
    "ExecuteTime": {
     "end_time": "2024-03-14T13:19:16.472638Z",
     "start_time": "2024-03-14T13:19:16.398971Z"
    }
   }
  },
  {
   "cell_type": "code",
   "execution_count": 36,
   "outputs": [
    {
     "data": {
      "text/plain": "{'source': 'dcc4a106ec167c5624a2b25430f042fd.png.CACHE.json',\n 'text': 'Ayse Deli\\nAm Schloß 9\\n35410 Hungen\\nInsiders Versicherungen\\nBrüsseler Straße 100\\n67657 Kaiserslautern\\nKündigung der Rentenversicherung Nr. 53189\\nDatum: 14.07.2015\\nVerehrte Damen und Herren,\\nleider muss ich Ihnen mit diesem Schreiben mitteilen, dass mein Ehemann Heinrich\\nvergangenen Montag verstorben ist. Bitte heben Sie aus diesem Grund den oben\\ngenannten Vertrag auf. Ich übersende Ihnen Ende dieser Woche den\\nVersicherungsschein sowie eine beglaubigte Sterbeurkunde.\\nDen Auszahlungsbetrag möchten Sie bitte auf das Konto 0147258369, BLZ 10020030\\nbei der Beispielbank Bielefeld erstatten.\\nFreundliche Grüße\\nDeli'}"
     },
     "execution_count": 36,
     "metadata": {},
     "output_type": "execute_result"
    }
   ],
   "source": [
    "data_full_text[0]"
   ],
   "metadata": {
    "collapsed": false,
    "ExecuteTime": {
     "end_time": "2024-03-14T13:19:17.748809Z",
     "start_time": "2024-03-14T13:19:17.742205Z"
    }
   }
  },
  {
   "cell_type": "markdown",
   "source": [
    "# Find the embeddings for the documents"
   ],
   "metadata": {
    "collapsed": false
   }
  },
  {
   "cell_type": "code",
   "execution_count": 37,
   "outputs": [
    {
     "data": {
      "text/plain": "280"
     },
     "execution_count": 37,
     "metadata": {},
     "output_type": "execute_result"
    }
   ],
   "source": [
    "embeddings = OpenAIEmbeddings()\n",
    "vectors = embeddings.embed_documents([x['text'] for x in data_full_text])\n",
    "len(vectors)"
   ],
   "metadata": {
    "collapsed": false,
    "ExecuteTime": {
     "end_time": "2024-03-14T13:19:23.775773Z",
     "start_time": "2024-03-14T13:19:19.669062Z"
    }
   }
  },
  {
   "cell_type": "markdown",
   "source": [
    "# Apply KMeans clustering"
   ],
   "metadata": {
    "collapsed": false
   }
  },
  {
   "cell_type": "code",
   "execution_count": 38,
   "outputs": [
    {
     "data": {
      "text/plain": "<Figure size 800x400 with 1 Axes>",
      "image/png": "[encoded data removed]"
     },
     "metadata": {},
     "output_type": "display_data"
    }
   ],
   "source": [
    "# Applying KMeans clustering on cleaned data with range of clusters\n",
    "inertia = []\n",
    "for k in range(1, 19):\n",
    "    kmeans = KMeans(n_clusters=k, random_state=0).fit(vectors)\n",
    "    inertia.append(kmeans.inertia_)\n",
    "\n",
    "plt.figure(figsize=(8, 4))\n",
    "plt.plot(range(1, 19), inertia, marker='o')\n",
    "plt.title('The Elbow Method')\n",
    "plt.xlabel('Number of clusters')\n",
    "plt.ylabel('Inertia')\n",
    "plt.show()\n"
   ],
   "metadata": {
    "collapsed": false,
    "ExecuteTime": {
     "end_time": "2024-03-14T13:19:28.982929Z",
     "start_time": "2024-03-14T13:19:26.970816Z"
    }
   }
  },
  {
   "cell_type": "markdown",
   "source": [
    "# From the above graph, we can see that the elbow is at 11. So, we will use 11 clusters for our KMeans clustering"
   ],
   "metadata": {
    "collapsed": false
   }
  },
  {
   "cell_type": "code",
   "execution_count": 39,
   "outputs": [
    {
     "data": {
      "text/plain": "array([ 2,  6,  9,  9,  0, 10,  9,  4,  7,  9,  9,  4,  9,  9,  9,  9,  7,\n        5,  4,  9,  8,  7,  7,  9,  8,  9,  2,  4,  5,  7,  8,  9,  5,  1,\n       10,  5,  9,  9,  3,  9,  8,  9,  8,  1,  9,  5,  3,  2,  6,  7,  5,\n        6,  2,  9,  9,  7,  3,  5,  5,  2,  8,  5,  8,  4,  8,  2, 10,  9,\n        3,  0,  4,  3,  3,  9,  6,  0,  5,  5,  9,  9,  4,  8,  0,  0,  8,\n        9,  9,  2,  9,  2,  9,  9,  3,  9,  9,  9, 10,  7,  0,  9, 10,  4,\n        4,  4,  9, 10,  9,  5,  8,  0,  2,  9,  8, 10,  2,  9,  0,  1,  6,\n        7,  8,  9,  2,  9,  2,  8, 10,  9,  9,  2,  9,  0,  4,  9, 10,  6,\n        9,  8,  9,  9,  2,  9,  3,  0,  4,  4,  3,  2,  9,  3,  9, 10,  5,\n        0,  9,  9,  3,  3,  8,  3,  9,  2,  4,  7,  9, 10,  7,  9,  9,  8,\n        6,  9,  9, 10,  9,  5,  0,  9,  9,  9,  9,  7,  9,  9,  9,  5,  0,\n        2,  9,  4, 10,  9,  2,  9,  0,  4,  9, 10,  0,  7,  7,  1,  9,  4,\n        5,  3,  2,  7, 10,  5,  9,  4,  7,  2,  3,  9,  9,  4,  5,  9,  8,\n        9,  9,  9,  9,  9,  0,  6,  7,  0, 10,  3,  9,  2,  9,  9,  6,  9,\n       10,  9,  9,  9,  9,  3,  9,  8,  9,  9, 10, 10,  9,  3, 10, 10,  9,\n        2, 10,  3,  9,  2,  7,  6,  5,  1,  4,  9,  1,  9,  0,  5,  9,  9,\n        3,  9,  0,  4,  0,  9,  9,  4], dtype=int32)"
     },
     "execution_count": 39,
     "metadata": {},
     "output_type": "execute_result"
    }
   ],
   "source": [
    "# Applying KMeans clustering on cleaned data with 8 clusters\n",
    "k_optimal = 11\n",
    "kmeans_optimal = KMeans(n_clusters=k_optimal, random_state=0).fit(vectors)\n",
    "kmeans_optimal.labels_"
   ],
   "metadata": {
    "collapsed": false,
    "ExecuteTime": {
     "end_time": "2024-03-14T13:19:33.827275Z",
     "start_time": "2024-03-14T13:19:33.764892Z"
    }
   }
  },
  {
   "cell_type": "markdown",
   "source": [
    "# Processing the data"
   ],
   "metadata": {
    "collapsed": false
   }
  },
  {
   "cell_type": "code",
   "execution_count": 41,
   "outputs": [
    {
     "data": {
      "text/plain": "                                    0  label\n0    dcc4a106ec167c5624a2b25430f042fd      2\n1    e0abc9a25ac589aedafbbb26ec5ece3d      6\n2    25a7a30c448e90fe7a74a8cf63d9c974      9\n3    e2620553c53f7636ed76c4f45d9a679c      9\n4    57ab20f06d415a76b461cc120006cd2d      0\n..                                ...    ...\n275  ec21736a67a68366ac663509359b7c5a      4\n276  1babf4d02b82740ef69faf94d3519029      0\n277  bc1dcfe1372f4f0f7692c7108cc9eff5      9\n278  879fc26b7fc361fff6bc7681ba235ad3      9\n279  0ad48f253bb1dbb7b9e17d71c27261e7      4\n\n[280 rows x 2 columns]",
      "text/html": "<div>\n<style scoped>\n    .dataframe tbody tr th:only-of-type {\n        vertical-align: middle;\n    }\n\n    .dataframe tbody tr th {\n        vertical-align: top;\n    }\n\n    .dataframe thead th {\n        text-align: right;\n    }\n</style>\n<table border=\"1\" class=\"dataframe\">\n  <thead>\n    <tr style=\"text-align: right;\">\n      <th></th>\n      <th>0</th>\n      <th>label</th>\n    </tr>\n  </thead>\n  <tbody>\n    <tr>\n      <th>0</th>\n      <td>dcc4a106ec167c5624a2b25430f042fd</td>\n      <td>2</td>\n    </tr>\n    <tr>\n      <th>1</th>\n      <td>e0abc9a25ac589aedafbbb26ec5ece3d</td>\n      <td>6</td>\n    </tr>\n    <tr>\n      <th>2</th>\n      <td>25a7a30c448e90fe7a74a8cf63d9c974</td>\n      <td>9</td>\n    </tr>\n    <tr>\n      <th>3</th>\n      <td>e2620553c53f7636ed76c4f45d9a679c</td>\n      <td>9</td>\n    </tr>\n    <tr>\n      <th>4</th>\n      <td>57ab20f06d415a76b461cc120006cd2d</td>\n      <td>0</td>\n    </tr>\n    <tr>\n      <th>...</th>\n      <td>...</td>\n      <td>...</td>\n    </tr>\n    <tr>\n      <th>275</th>\n      <td>ec21736a67a68366ac663509359b7c5a</td>\n      <td>4</td>\n    </tr>\n    <tr>\n      <th>276</th>\n      <td>1babf4d02b82740ef69faf94d3519029</td>\n      <td>0</td>\n    </tr>\n    <tr>\n      <th>277</th>\n      <td>bc1dcfe1372f4f0f7692c7108cc9eff5</td>\n      <td>9</td>\n    </tr>\n    <tr>\n      <th>278</th>\n      <td>879fc26b7fc361fff6bc7681ba235ad3</td>\n      <td>9</td>\n    </tr>\n    <tr>\n      <th>279</th>\n      <td>0ad48f253bb1dbb7b9e17d71c27261e7</td>\n      <td>4</td>\n    </tr>\n  </tbody>\n</table>\n<p>280 rows × 2 columns</p>\n</div>"
     },
     "execution_count": 41,
     "metadata": {},
     "output_type": "execute_result"
    }
   ],
   "source": [
    "import pandas as pd\n",
    "import os\n",
    "\n",
    "df = pd.DataFrame(os.path.basename(row['source'])[:-15] for row in data_full_text)\n",
    "df['label']=kmeans_optimal.labels_\n",
    "df"
   ],
   "metadata": {
    "collapsed": false,
    "ExecuteTime": {
     "end_time": "2024-03-14T13:19:43.285716Z",
     "start_time": "2024-03-14T13:19:43.285134Z"
    }
   }
  },
  {
   "cell_type": "code",
   "execution_count": 45,
   "outputs": [],
   "source": [
    "new = {\n",
    "    \"clusters\": {\n",
    "        \"cluster_0\" : \"Cluster 0\",\n",
    "        \"cluster_1\" : \"Cluster 1\",\n",
    "        \"cluster_2\" : \"Cluster 2\",\n",
    "        \"cluster_3\" : \"Cluster 3\",\n",
    "        \"cluster_4\" : \"Cluster 4\",\n",
    "        \"cluster_5\" : \"Cluster 5\",\n",
    "        \"cluster_6\" : \"Cluster 6\",\n",
    "        \"cluster_7\" : \"Cluster 7\",\n",
    "        \"cluster_8\" : \"Cluster 8\",\n",
    "        \"cluster_9\" : \"Cluster 9\",\n",
    "        \"cluster_10\" : \"Cluster 10\"\n",
    "    },\n",
    "    \"samples\": {}\n",
    "\n",
    "}"
   ],
   "metadata": {
    "collapsed": false,
    "ExecuteTime": {
     "end_time": "2024-03-14T13:20:25.162137Z",
     "start_time": "2024-03-14T13:20:25.135897Z"
    }
   }
  },
  {
   "cell_type": "code",
   "execution_count": 46,
   "outputs": [
    {
     "data": {
      "text/plain": "{'clusters': {'cluster_0': 'Cluster 0',\n  'cluster_1': 'Cluster 1',\n  'cluster_2': 'Cluster 2',\n  'cluster_3': 'Cluster 3',\n  'cluster_4': 'Cluster 4',\n  'cluster_5': 'Cluster 5',\n  'cluster_6': 'Cluster 6',\n  'cluster_7': 'Cluster 7',\n  'cluster_8': 'Cluster 8',\n  'cluster_9': 'Cluster 9',\n  'cluster_10': 'Cluster 10'},\n 'samples': {'dcc4a106ec167c5624a2b25430f042fd': 'cluster_2',\n  'e0abc9a25ac589aedafbbb26ec5ece3d': 'cluster_6',\n  '25a7a30c448e90fe7a74a8cf63d9c974': 'cluster_9',\n  'e2620553c53f7636ed76c4f45d9a679c': 'cluster_9',\n  '57ab20f06d415a76b461cc120006cd2d': 'cluster_0',\n  '44c71bf12711a784d99a2ab2a2968778': 'cluster_10',\n  'ef10fc8b264be83ec52bed6a2422d80e': 'cluster_9',\n  '59fb71f178f247523719897bb6127a66': 'cluster_4',\n  '56f44e496f67769a69bed6500fd7f694': 'cluster_7',\n  '412e0942006af3c01d8ea8a9ba481268': 'cluster_9',\n  'aa87d3aecf507f0f1e13a00b8b57429f': 'cluster_9',\n  '21ce753349be82d5c1c4ff26057f6158': 'cluster_4',\n  '4072108702e781154aac5cf7895b6ce7': 'cluster_9',\n  'd4bb59de624ba8c6eb8a25dff75a58fa': 'cluster_9',\n  'ae51f6126868d4b2752b9410c15a6815': 'cluster_9',\n  '8fb0d020110d20a7f82ae6706cec7a4a': 'cluster_9',\n  '20304706a6decc1775f69f7c00786c0d': 'cluster_7',\n  '85d67c2470a99e9921dd451b9c52421f': 'cluster_5',\n  'edd1c44aeeccb8fb3efd7991c0c5cca7': 'cluster_4',\n  'a719fc8b94ec3e59e250c08128a4fa78': 'cluster_9',\n  '9ab7c55375f7b22ee50a73cc2fb7b864': 'cluster_8',\n  '0be71a800166e8a60a3791102c558ec0': 'cluster_7',\n  'c0aa2754ff1fdbcb688ba36b6003a813': 'cluster_7',\n  '24b6eb215bac4eef4954d24ed6d21953': 'cluster_9',\n  'fec330f839de21a2f3bc7ba0729b548b': 'cluster_8',\n  'cf4aee18dc031ae0c7a493fd9b63aefc': 'cluster_9',\n  'ce2d7e0e90c61baaf5d31de0816ce3d0': 'cluster_2',\n  '16ea433c44685375231fa7a488670604': 'cluster_4',\n  'a03d9dde336944f4ba58a9038c42fee6': 'cluster_5',\n  '8249d4a55e1ebc289a22225fe64906cd': 'cluster_7',\n  'e702cb206f3e62c7c225a85b4819f367': 'cluster_8',\n  '751debc083a0566ae52c7084acb07406': 'cluster_9',\n  '28593a7a8016aa07aa74ba6b16feb0fa': 'cluster_5',\n  '195339a633bd47b4c82afdcb9ed8ee94': 'cluster_1',\n  '88ebd311f5a25b2c354285c6b0923d2a': 'cluster_10',\n  '6f641c0d96b84661d471f72e75316cac': 'cluster_5',\n  '3038dd7c999379f4cbcc4efbf25911c8': 'cluster_9',\n  '8be599c946e622212ee27a178a4dd75d': 'cluster_9',\n  'cd6752e70f950e6d1045a55123f9b3ec': 'cluster_3',\n  'ed418ebff2e250cc968294558cf7115e': 'cluster_9',\n  '09222d2557144e0d02c9749362c70d88': 'cluster_8',\n  '8ce8ed378ed4a10928b3fb7417fbf7f0': 'cluster_9',\n  'a19e08ba1cc0d6a0e7005739ce789d69': 'cluster_8',\n  'dc8a06870df2d3e589a2d1981a901bda': 'cluster_1',\n  'b9649a6a11671e60bd0b8841b1ce5fa1': 'cluster_9',\n  '400f74ee3aeea7e12641d31680af2d4b': 'cluster_5',\n  '29f5b3c6f4221a468f2c837c6e508b66': 'cluster_3',\n  '4bfa7735f7ba409c8b8fc80dbf019230': 'cluster_2',\n  'ef0b5963d509331bb6b685856dc51f22': 'cluster_6',\n  '10843aea7577225706dddacb1c53747e': 'cluster_7',\n  '21a470fb604d18fb9f3f01aea9e32bc4': 'cluster_5',\n  'a0ab30a54476b6115e2994e9e7ac5db3': 'cluster_6',\n  '9c5b9c6d97459e1bfe04b9e9167a2779': 'cluster_2',\n  '51ef87b7a2fa74c128bf6124774f7fee': 'cluster_9',\n  '2784390d305ad2a5c9c16c977839061f': 'cluster_9',\n  '87502f2cde8e1714e7ab1b37b17bc89c': 'cluster_7',\n  'c51a51367c1fcfaef886ab4d1941ee36': 'cluster_3',\n  '7d23ef822a3993cacaacd3832f1a8370': 'cluster_5',\n  '16fd0579d8d61e48bae244925e6b80a3': 'cluster_5',\n  '6c3aee907488ee14ab12c6150b75b9aa': 'cluster_2',\n  'ba6b814dff15b8ac3855c07b2e66dcb2': 'cluster_8',\n  'c7082430968200a749812442de127ab2': 'cluster_5',\n  '20cf0504fcb431feded254d566c91f96': 'cluster_8',\n  '3720e69815ff303ee3927f40a40bca80': 'cluster_4',\n  'c237a8d6e99df08927516b67838d1fb2': 'cluster_8',\n  'e3676e1883adea7be130555e31bf0916': 'cluster_2',\n  '0f50c0cefa61239686d991bc8b5d9a39': 'cluster_10',\n  '732482f6692cf3afd85e76d3d3a2ae7b': 'cluster_9',\n  'a7155639e598329ab79f2ad2afcc69b0': 'cluster_3',\n  '4a087b4b89fa9eefc6fa130fef054bcb': 'cluster_0',\n  'f901cdd996f268b203e13cd86ae83faf': 'cluster_4',\n  '34d8b8beeb8505c072b0cd903f07ac42': 'cluster_3',\n  '0866dfbfcea368bd0c6ead1bffffd9df': 'cluster_3',\n  'dd890f42a3495c416170a33149b8b243': 'cluster_9',\n  'aa8337ba45d03bb94206532c8f8fe3d5': 'cluster_6',\n  '24dc200f780a719b9284f84ac71f07c1': 'cluster_0',\n  'f39ae106b51614868f1bc7ccfdec3826': 'cluster_5',\n  'ef737967365cbf8a65f76be0c884fc4c': 'cluster_5',\n  'f8b69343787e41a8f178fd88b5e7c9a3': 'cluster_9',\n  '5b94dcc096621efd6a367de3e3d73e9c': 'cluster_9',\n  'e8416d63b6c15a83c6dbd4349588c0b5': 'cluster_4',\n  '4348c1152ec8f94c7d93240452a48e5e': 'cluster_8',\n  '90a3891a50e069f50785fe0449843e9c': 'cluster_0',\n  '6480282f95bbfb9902d3f4246d8a8884': 'cluster_0',\n  'a3bcb1bc696bb77e4f78201b107a2229': 'cluster_8',\n  'cb3f96e4b538a1b75e9999de596aec40': 'cluster_9',\n  'b4e3eb0a50655cf021d5e2dab384cd28': 'cluster_9',\n  'bdae535f23ae6198ec7187cccf2c7f76': 'cluster_2',\n  'edebae2f7d8f67c2a1412a02a9ec0220': 'cluster_9',\n  '33301f9d6dae748b04d8d03575102947': 'cluster_2',\n  'e7ee310c4bb0be675b3b79effb2b4e0a': 'cluster_9',\n  '04b38de2d28aed9eaf7a837c9e269c9c': 'cluster_9',\n  'a9975390266a82e69532dabdcc3e3fda': 'cluster_3',\n  '323d0c0d2f5bc3ecdf3616728dbd96f2': 'cluster_9',\n  'ba50570f33bf98f494e19d7879787664': 'cluster_9',\n  'f963bd7251198bf9e897603031f25724': 'cluster_9',\n  'dabcbc1bdf50a9c785d355e68429be0a': 'cluster_10',\n  '505fdd52ca83335a4d93a1d91bfecdd1': 'cluster_7',\n  'ce178f510ce657f0cad7def0dad24bab': 'cluster_0',\n  '9b14ad20260afe252251e580df17e778': 'cluster_9',\n  'abb8c497cf7677446b19dd1e293eb2c2': 'cluster_10',\n  '316e193c21eaec9eb0137941e207b5ba': 'cluster_4',\n  '105340ccee50ddb5e6299d8ec572e598': 'cluster_4',\n  'f9ab90aa164dc172d578cbbf9a103fec': 'cluster_4',\n  'eac864a70681149430ae5ea68b756ae6': 'cluster_9',\n  'dd0f304fc7c7521f3d71d1271a237e25': 'cluster_10',\n  'f8682eeb69fb2e7bea080391c5fdcb0d': 'cluster_9',\n  'c77e78eb039cb4fb854002c92970cbaa': 'cluster_5',\n  '2c580178d4cf35dd294a6cf0e0024460': 'cluster_8',\n  'ed1ec71e94442686bb91274504be0979': 'cluster_0',\n  '009ae686ab201cbc03789d40aa89bbc2': 'cluster_2',\n  '52ef32c08f01c0b4069b869e57c617ed': 'cluster_9',\n  '21b67b25d35834337bc85889c2dd1ce6': 'cluster_8',\n  '6206e9833b7101b58e05bfe5edc9f0c8': 'cluster_10',\n  'bfc1fd0384a12dc206d37f78888df2a6': 'cluster_2',\n  '32b787c0b89b2497661b97fead93df42': 'cluster_9',\n  'ff75e58e64f950911ea5faf869170ba0': 'cluster_0',\n  '7ec4c2137a8a1afb1f32ef8be75c8b1b': 'cluster_1',\n  '7f051d85b3b866d0b2b4c583c29e0fdd': 'cluster_6',\n  '292c9baa2347e3199adfb7715832372f': 'cluster_7',\n  '3545f00afbba4684a7734ff636637f13': 'cluster_8',\n  '1e4c436b43e85c1387a2b6b4a050be77': 'cluster_9',\n  '4a6775708fb43ed1a7d6ab1de2cf5e1f': 'cluster_2',\n  '50e92ae994a329480c8e4817df2d0301': 'cluster_9',\n  '9d10581de2fa1d91faf499f8d852a7ac': 'cluster_2',\n  '29fec1b0e9dee28f3a2de0d8ed52a0a2': 'cluster_8',\n  'f540e0faf891052c2dad7ad4a780b09f': 'cluster_10',\n  'c9c514db1d050e4c705f9c06d61b181d': 'cluster_9',\n  '38804b3ac13eae957308c32c0403ff4b': 'cluster_9',\n  '2be6fab4d76e61a5310688154e8a5207': 'cluster_2',\n  '9e3cd95ecde2bd45ace3e35ba894bc36': 'cluster_9',\n  'a131f67a477f55116adfd8520e2aa887': 'cluster_0',\n  '5d58ddadbae8656e548d5d4db3760740': 'cluster_4',\n  '478a97808b9baf659e65e21e301147da': 'cluster_9',\n  'f96e8ee69f04f993bb5fa41004801a8f': 'cluster_10',\n  'e94e2694d5611d166f709ed6f22ff97f': 'cluster_6',\n  '04229aa14fedd5de427f25fb50409d5b': 'cluster_9',\n  '875928557c24b2cbd2c5c138700a9443': 'cluster_8',\n  '05e96562e19e2fed2b6458f24196f53a': 'cluster_9',\n  'aa69f293f1ca85a43513ff732978ddd8': 'cluster_9',\n  'beb641870c3e11dad901eec2d61e92c5': 'cluster_2',\n  'd66b889983d81e5bd5e9cdb59d2a8483': 'cluster_9',\n  '37b82c3f62a12c76ebf2ef75aa5336fd': 'cluster_3',\n  '1c41c2862fc9a86a0a9f4d4f2bc370cc': 'cluster_0',\n  'd2391783fa8b889b313f630baaba0a05': 'cluster_4',\n  'f7801d95f48033d45d5887ca08903dd4': 'cluster_4',\n  '542f1d6263ad49c727d39149f0590b33': 'cluster_3',\n  'a823104a64da51a1cedd8c5563532715': 'cluster_2',\n  'e1d0ec26cbd3e7ecec4ca37ea0b66717': 'cluster_9',\n  '569b346029795185bb747626e2ed278d': 'cluster_3',\n  '442f98043133734788b35287393a30db': 'cluster_9',\n  '4c9592165f8dbae97c48b62d459dda59': 'cluster_10',\n  'e58efff984d9c113a31bb2f17efdd035': 'cluster_5',\n  'ed5cc73dfda9eee35ff0c6bacae7761e': 'cluster_0',\n  '462e31e1c98ca5e7dc06ee0b765b29ad': 'cluster_9',\n  '544206e3b9adaf201e3ab42403beaa40': 'cluster_9',\n  '45aa71af3617245ddb9c4ab23b443290': 'cluster_3',\n  '16f1a12b8123d42657938cde7281395f': 'cluster_3',\n  'aad3cfc8ad630e56a4af7497dee2fee1': 'cluster_8',\n  '73e26e078017d6c66a1ac2c4b8898e15': 'cluster_3',\n  'db8e16f27556278b3c3a03447524a77b': 'cluster_9',\n  '89afef4114bfae49be3be8258fc6016a': 'cluster_2',\n  '67025a26468fd6481e2fa1aa78110368': 'cluster_4',\n  '414eca7356f70ec75f8a1fe86329a45e': 'cluster_7',\n  '7f3894b46a7e116afd0d0c7f30269db9': 'cluster_9',\n  '92c3ac6358ea30a51969cbf2a38d1816': 'cluster_10',\n  '2a8a6aaa0e025f7d83290c2b976831d6.': 'cluster_7',\n  'adbb9df0c261558406efcb6bc303f777': 'cluster_9',\n  'e07824635b9b7fd2d23968ccdebd60ca': 'cluster_9',\n  'cd9dbb004eb98839ad322f4954f8a6e6': 'cluster_8',\n  '592331eb5f023d1cc636dea14c90fd3a': 'cluster_6',\n  '2090151ffb061679014b02ec76e24766': 'cluster_9',\n  '7e36c2b7e7802c7ce376e2557148488a': 'cluster_9',\n  '0fcec757bb8499b0f64c9cbdf2992c49': 'cluster_10',\n  'd43f969bf91c2492f903c834d34d09f3': 'cluster_9',\n  '2ae3d19eb69945c9a74a704413c48109': 'cluster_5',\n  '342b8b5f83c29a96c8882fe0c8d9575e': 'cluster_0',\n  'e9c157ce5012846ce0182547e20d94b0': 'cluster_9',\n  '5f6efd64c6733543b0de88d187c107d3': 'cluster_9',\n  '8dbf8a6b73f3839496e613cb0a6e3ece': 'cluster_9',\n  'e567a9508abfe7508ba27d0172018cf0': 'cluster_9',\n  'dd9d7835451c693da5d04de10f559e94.': 'cluster_7',\n  'fcee4beb97428b99abaa2d2ea06237b7': 'cluster_9',\n  '51f792fcf46630673f30219ab9f62d78': 'cluster_9',\n  '8f3a2588f0eaa527e5391b9fd05a8b5b': 'cluster_9',\n  '3fc9dcc5b45431cccec27dcd114ea094': 'cluster_5',\n  'dedacab2f1a95a38edda7cdd82c7df4f': 'cluster_0',\n  '4400559015c475d78f83c4f900a921fe': 'cluster_2',\n  '9eac42384a76787e82284e8d94f11168': 'cluster_9',\n  'c5a5a8ea0cb4eff3a3af38475a9b75dd': 'cluster_4',\n  '96bb4fb3192fb80dcafe15dc4cd4f917': 'cluster_10',\n  '24322c050b0c0cfe64ad76dde0d9d065': 'cluster_9',\n  'c33972f5f01d630f4413ceb0253771c8': 'cluster_2',\n  'c47e0ed33df74df5355aca3def23a811': 'cluster_9',\n  '94473b259deb4066b9ce75a191372139': 'cluster_0',\n  '623285c273d89e18e662d98343d9e33e': 'cluster_4',\n  'dce4c12303136da116135c6cdda88612': 'cluster_9',\n  '929790f66dccbbfa03788409df928d5a': 'cluster_10',\n  '4ab65383062a6390504a4e2dda80bbe2': 'cluster_0',\n  'b2b429a396caa48854728733fc01b0c4': 'cluster_7',\n  '8cbc2c2624131aa4d0c88c21ca0e8bda': 'cluster_7',\n  '11046dda65c3ce2b0283ae87608f1db0': 'cluster_1',\n  '51045d7ed23422866a6a7e8d7da9c949': 'cluster_9',\n  '78b7690a656adfb3513b66fda0bc77af': 'cluster_4',\n  'ba401daef1ae59c99ba4b67445eae8f4': 'cluster_5',\n  '1517fdbb628f0071761eea83f8bdfc09': 'cluster_3',\n  '802ebe3b5d5932664f40e0f16338eaa4': 'cluster_2',\n  '5201babc4e4f7ee9609e739e39788ba6': 'cluster_7',\n  '59fed2636440af2cdf3f107b2f05397e': 'cluster_10',\n  'd02e2607234678db6105722b6ba23479': 'cluster_5',\n  'a7c0f200698f797d3816219f5f6758ac': 'cluster_9',\n  '55e0f894677e50e088154a583ac93d1e': 'cluster_4',\n  '5f947e6675316d7e19b54cd199e4da4b': 'cluster_7',\n  '02a423659dda5751a1c707a3639bb51f': 'cluster_2',\n  'ea83b5954dc98f403d74d38e3401cad1': 'cluster_3',\n  'e89088fd0ce6b01829a2419a65c3b2b1': 'cluster_9',\n  '3d9c3c0e9b3926e3165dc3b1fea506bf': 'cluster_9',\n  '955808f3498c9fa51924cc95eaed7e15': 'cluster_4',\n  '06d95f3c880d15c7d477b2e44d5414c2': 'cluster_5',\n  '8ddb7b9b389e7645bcfc3ec4b6379265': 'cluster_9',\n  '809b45fcdddd040180696d916d165d04': 'cluster_8',\n  '8953db01557146b7fc4509dc1f3ac190': 'cluster_9',\n  '29a3307c6a3337b573f46b1540bfd5eb': 'cluster_9',\n  'a25a258adb4566bdd1348d6855233746': 'cluster_9',\n  '3489d1b5cd6f509d388c50dfeb68fdc0': 'cluster_9',\n  'd44baac46790411799d69f899c5c331b': 'cluster_9',\n  'd07c4911ceafbe5db3f51a5ae2bbeba4': 'cluster_0',\n  '1cb304ddc5613dfd495f675c3580c665': 'cluster_6',\n  'cdd1afe7112104dc45e43a8eab8f56fd': 'cluster_7',\n  '528330593a196b6e3a061372645648e3': 'cluster_0',\n  '167c57a595fccf6ca5a2e353379b864c': 'cluster_10',\n  '731bf596b748629d95e1033d3be08634': 'cluster_3',\n  '2e26a5357d9ede57aaddc1565dbd28b6': 'cluster_9',\n  'fd3695c58d9d14982ed81e9c7e9410fa': 'cluster_2',\n  '0121968e60ef6b1d019f33de3c29dbce': 'cluster_9',\n  'cd98660b02d4653538b4264e66a03dfd': 'cluster_9',\n  '5bb2ab3c7721a53e86ab82a798d13f45': 'cluster_6',\n  'e55ae5116bc4f92d7beefc5b14d207e9': 'cluster_9',\n  '0858bc389b91c53a4b9a513aeb62be78': 'cluster_10',\n  'e0a622d3bafde3a827f4216f0e6891b3': 'cluster_9',\n  'd2b422d868ca87ed2889703a9fdad636': 'cluster_9',\n  'b14d062559096a09b09cc8c7565c5a46': 'cluster_9',\n  'f2e447a8a7070ed0f91380dabe295475': 'cluster_9',\n  'd0a0f7ba4df52421801caa0a6d261fac': 'cluster_3',\n  'a46eb4eeb30f41c1877246db6960f5dd': 'cluster_9',\n  '11813c8e4bddbbe6cf3db3996c5750f3': 'cluster_8',\n  '0306e1882e336f5d0dd21b6be4c8fdc0': 'cluster_9',\n  '728f3e9ed96b61936dc127357dbc2086': 'cluster_9',\n  '5f0fa188f07f465be0885aabe09861ca': 'cluster_10',\n  'fefdbb0f4b1a7e4e942c3df9bb9d580a': 'cluster_10',\n  '37de9b77126b31220d134b033c4310e1': 'cluster_9',\n  'b6471cf1578ab01c5fa489cd31355ebe': 'cluster_3',\n  '5a993279e6abb1b88fe859f310a6abf9': 'cluster_10',\n  'e7ef9425e411f2f2b774feb2aa13a01c': 'cluster_10',\n  '31c9c97832d5dcba935cecd95390ab0c': 'cluster_9',\n  '06421deaea221ac8ec7ab5734adb5b01': 'cluster_2',\n  '33ff3fc8508db140a665acb20c3f5f29': 'cluster_10',\n  'fbcd9214b10e74d5ec8b4687084afc78': 'cluster_3',\n  'a8d8a58a799cd0d5298ff805adddd4cd': 'cluster_9',\n  '827ddaab64c6e6883a1edfc5cd9ada51': 'cluster_2',\n  '6c878d335208ba7ee3172f8e226a555e': 'cluster_7',\n  '6ce736f8680bdc40884fed47c3328718': 'cluster_6',\n  'f7c8faccfa654f5415027d0b53c9c289': 'cluster_5',\n  'b0a5a06cc6e7ab098096cc8c24d4c213': 'cluster_1',\n  '3c3473137bba879ac6935f44c843598e': 'cluster_4',\n  '3e976ed8eec7a2fed3201641ea397892': 'cluster_9',\n  '7a1c9899a4724599b833a97dbd468ee0': 'cluster_1',\n  '10734a78b41531d43190d6ccddd1a6db': 'cluster_9',\n  'df24718ec60f232c4169e2637fb8e1c2': 'cluster_0',\n  '8adf248a2da11f57dd67afc0146f6a25': 'cluster_5',\n  '4ac64881aacf6c4d1a53083ead040309': 'cluster_9',\n  '05f5d0367eada6f82affd0e9ddad830f': 'cluster_9',\n  'dedcbd66b5143ee75567a11d109441b4': 'cluster_3',\n  '69a9ab49e9f484fa8eed28f47b9c4a19': 'cluster_9',\n  'f0646b41a2b08b12093b4028914395ac': 'cluster_0',\n  'ec21736a67a68366ac663509359b7c5a': 'cluster_4',\n  '1babf4d02b82740ef69faf94d3519029': 'cluster_0',\n  'bc1dcfe1372f4f0f7692c7108cc9eff5': 'cluster_9',\n  '879fc26b7fc361fff6bc7681ba235ad3': 'cluster_9',\n  '0ad48f253bb1dbb7b9e17d71c27261e7': 'cluster_4'}}"
     },
     "execution_count": 46,
     "metadata": {},
     "output_type": "execute_result"
    }
   ],
   "source": [
    "for index, row in df.iterrows():\n",
    "    new[\"samples\"][row[0]] = \"cluster_\" + str(row['label'])\n",
    "new"
   ],
   "metadata": {
    "collapsed": false,
    "ExecuteTime": {
     "end_time": "2024-03-14T13:20:26.021896Z",
     "start_time": "2024-03-14T13:20:26.018558Z"
    }
   }
  },
  {
   "cell_type": "code",
   "execution_count": 47,
   "outputs": [
    {
     "name": "stdout",
     "output_type": "stream",
     "text": [
      "Dictionary saved to test_dictionary_data.json\n"
     ]
    }
   ],
   "source": [
    "import json\n",
    "file_path = \"test_dictionary_data.json\"\n",
    "\n",
    "# Write dictionary to JSON file\n",
    "with open(file_path, \"w\") as json_file:\n",
    "    json.dump(new, json_file, indent=4)\n",
    "\n",
    "print(f\"Dictionary saved to {file_path}\")"
   ],
   "metadata": {
    "collapsed": false,
    "ExecuteTime": {
     "end_time": "2024-03-14T13:20:27.569209Z",
     "start_time": "2024-03-14T13:20:27.562157Z"
    }
   }
  },
  {
   "cell_type": "code",
   "execution_count": 9,
   "outputs": [],
   "source": [
    "# loader = JSONLoader(\n",
    "#     file_path='test.json',\n",
    "#     jq_schema=\".ocr[].text\",\n",
    "#     text_content=False)\n",
    "#\n",
    "# data = loader.load()\n",
    "# print(f'document count: {len(data)}')\n",
    "# data"
   ],
   "metadata": {
    "collapsed": false,
    "ExecuteTime": {
     "end_time": "2024-03-14T11:51:09.882601Z",
     "start_time": "2024-03-14T11:51:09.876957Z"
    }
   }
  },
  {
   "cell_type": "code",
   "execution_count": 10,
   "outputs": [],
   "source": [
    "# # Load the vectorstore\n",
    "# faiss_index = FAISS.from_documents(data_full_text, embeddings)\n",
    "# faiss_index.save_local(\"faiss_index\")\n",
    "# faiss_db = FAISS.load_local(\"faiss_index\", embeddings, allow_dangerous_deserialization=True)"
   ],
   "metadata": {
    "collapsed": false,
    "ExecuteTime": {
     "end_time": "2024-03-14T11:51:10.046914Z",
     "start_time": "2024-03-14T11:51:10.044814Z"
    }
   }
  },
  {
   "cell_type": "code",
   "execution_count": 11,
   "outputs": [],
   "source": [
    "# from sklearn.manifold import TSNE\n",
    "# import matplotlib.pyplot as plt\n",
    "#\n",
    "# # Taking out the warnings\n",
    "# import warnings\n",
    "# from warnings import simplefilter\n",
    "#\n",
    "# # Filter out FutureWarnings\n",
    "# simplefilter(action='ignore', category=FutureWarning)\n",
    "#\n",
    "# # Perform t-SNE and reduce to 2 dimensions\n",
    "# tsne = TSNE(n_components=2, random_state=42)\n",
    "# reduced_data_tsne = tsne.fit_transform(vectors)\n",
    "#\n",
    "# # Plot the reduced data\n",
    "# plt.scatter(reduced_data_tsne[:, 0], reduced_data_tsne[:, 1], c=kmeans.labels_)\n",
    "# plt.xlabel('Dimension 1')\n",
    "# plt.ylabel('Dimension 2')\n",
    "# plt.title('Book Embeddings Clustered')\n",
    "# plt.show()"
   ],
   "metadata": {
    "collapsed": false,
    "ExecuteTime": {
     "end_time": "2024-03-14T11:51:10.288236Z",
     "start_time": "2024-03-14T11:51:10.280738Z"
    }
   }
  },
  {
   "cell_type": "code",
   "execution_count": null,
   "outputs": [],
   "source": [],
   "metadata": {
    "collapsed": false
   }
  }
 ],
 "metadata": {
  "kernelspec": {
   "display_name": "Python 3",
   "language": "python",
   "name": "python3"
  },
  "language_info": {
   "codemirror_mode": {
    "name": "ipython",
    "version": 2
   },
   "file_extension": ".py",
   "mimetype": "text/x-python",
   "name": "python",
   "nbconvert_exporter": "python",
   "pygments_lexer": "ipython2",
   "version": "2.7.6"
  }
 },
 "nbformat": 4,
 "nbformat_minor": 0
}
