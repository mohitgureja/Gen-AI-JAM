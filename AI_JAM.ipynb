{
 "cells": [
  {
   "cell_type": "code",
   "execution_count": 4,
   "outputs": [
    {
     "data": {
      "text/plain": "True"
     },
     "execution_count": 4,
     "metadata": {},
     "output_type": "execute_result"
    }
   ],
   "source": [
    "from langchain_openai import OpenAIEmbeddings\n",
    "from langchain_community.vectorstores import FAISS\n",
    "from langchain.document_loaders.json_loader import JSONLoader\n",
    "from langchain.document_loaders import DirectoryLoader, TextLoader\n",
    "from sklearn.cluster import KMeans\n",
    "import matplotlib.pyplot as plt\n",
    "import warnings\n",
    "warnings.filterwarnings('ignore')\n",
    "from dotenv import load_dotenv\n",
    "\n",
    "# Load the environment variables\n",
    "load_dotenv()"
   ],
   "metadata": {
    "collapsed": false,
    "ExecuteTime": {
     "end_time": "2024-03-14T11:49:58.611068Z",
     "start_time": "2024-03-14T11:49:58.597426Z"
    }
   }
  },
  {
   "cell_type": "code",
   "execution_count": 5,
   "outputs": [
    {
     "name": "stderr",
     "output_type": "stream",
     "text": [
      "100%|██████████| 754/754 [00:00<00:00, 17978.08it/s]\n"
     ]
    },
    {
     "data": {
      "text/plain": "754"
     },
     "execution_count": 5,
     "metadata": {},
     "output_type": "execute_result"
    }
   ],
   "source": [
    "DRIVE_FOLDER = \"train/train\"\n",
    "loader = DirectoryLoader(DRIVE_FOLDER, glob='**/*.json', show_progress=True, loader_cls=TextLoader)\n",
    "data_full_text = loader.load()\n",
    "len(data_full_text)"
   ],
   "metadata": {
    "collapsed": false,
    "ExecuteTime": {
     "end_time": "2024-03-14T11:49:59.356911Z",
     "start_time": "2024-03-14T11:49:59.274416Z"
    }
   }
  },
  {
   "cell_type": "code",
   "execution_count": 6,
   "outputs": [
    {
     "data": {
      "text/plain": "754"
     },
     "execution_count": 6,
     "metadata": {},
     "output_type": "execute_result"
    }
   ],
   "source": [
    "embeddings = OpenAIEmbeddings()\n",
    "vectors = embeddings.embed_documents([x.page_content for x in data_full_text])\n",
    "len(vectors)"
   ],
   "metadata": {
    "collapsed": false,
    "ExecuteTime": {
     "end_time": "2024-03-14T11:50:16.931301Z",
     "start_time": "2024-03-14T11:50:00.017956Z"
    }
   }
  },
  {
   "cell_type": "code",
   "execution_count": 7,
   "outputs": [
    {
     "data": {
      "text/plain": "1536"
     },
     "execution_count": 7,
     "metadata": {},
     "output_type": "execute_result"
    }
   ],
   "source": [
    "len(vectors[0])"
   ],
   "metadata": {
    "collapsed": false,
    "ExecuteTime": {
     "end_time": "2024-03-14T11:50:16.934833Z",
     "start_time": "2024-03-14T11:50:16.932175Z"
    }
   }
  },
  {
   "cell_type": "code",
   "execution_count": 8,
   "outputs": [
    {
     "data": {
      "text/plain": "<Figure size 800x400 with 1 Axes>",
      "image/png": "[encoded data removed]"
     },
     "metadata": {},
     "output_type": "display_data"
    }
   ],
   "source": [
    "# Applying KMeans clustering on cleaned data with range of clusters\n",
    "inertia = []\n",
    "for k in range(1, 19):\n",
    "    kmeans = KMeans(n_clusters=k, random_state=0).fit(vectors)\n",
    "    inertia.append(kmeans.inertia_)\n",
    "\n",
    "plt.figure(figsize=(8, 4))\n",
    "plt.plot(range(1, 19), inertia, marker='o')\n",
    "plt.title('The Elbow Method')\n",
    "plt.xlabel('Number of clusters')\n",
    "plt.ylabel('Inertia')\n",
    "plt.show()\n"
   ],
   "metadata": {
    "collapsed": false,
    "ExecuteTime": {
     "end_time": "2024-03-14T11:50:21.087383Z",
     "start_time": "2024-03-14T11:50:16.979355Z"
    }
   }
  },
  {
   "cell_type": "code",
   "execution_count": 9,
   "outputs": [],
   "source": [
    "# loader = JSONLoader(\n",
    "#     file_path='test.json',\n",
    "#     jq_schema=\".ocr[].text\",\n",
    "#     text_content=False)\n",
    "#\n",
    "# data = loader.load()\n",
    "# print(f'document count: {len(data)}')\n",
    "# data"
   ],
   "metadata": {
    "collapsed": false,
    "ExecuteTime": {
     "end_time": "2024-03-14T11:51:09.882601Z",
     "start_time": "2024-03-14T11:51:09.876957Z"
    }
   }
  },
  {
   "cell_type": "code",
   "execution_count": 10,
   "outputs": [],
   "source": [
    "# # Load the vectorstore\n",
    "# faiss_index = FAISS.from_documents(data_full_text, embeddings)\n",
    "# faiss_index.save_local(\"faiss_index\")\n",
    "# faiss_db = FAISS.load_local(\"faiss_index\", embeddings, allow_dangerous_deserialization=True)"
   ],
   "metadata": {
    "collapsed": false,
    "ExecuteTime": {
     "end_time": "2024-03-14T11:51:10.046914Z",
     "start_time": "2024-03-14T11:51:10.044814Z"
    }
   }
  },
  {
   "cell_type": "code",
   "execution_count": 11,
   "outputs": [],
   "source": [
    "# from sklearn.manifold import TSNE\n",
    "# import matplotlib.pyplot as plt\n",
    "#\n",
    "# # Taking out the warnings\n",
    "# import warnings\n",
    "# from warnings import simplefilter\n",
    "#\n",
    "# # Filter out FutureWarnings\n",
    "# simplefilter(action='ignore', category=FutureWarning)\n",
    "#\n",
    "# # Perform t-SNE and reduce to 2 dimensions\n",
    "# tsne = TSNE(n_components=2, random_state=42)\n",
    "# reduced_data_tsne = tsne.fit_transform(vectors)\n",
    "#\n",
    "# # Plot the reduced data\n",
    "# plt.scatter(reduced_data_tsne[:, 0], reduced_data_tsne[:, 1], c=kmeans.labels_)\n",
    "# plt.xlabel('Dimension 1')\n",
    "# plt.ylabel('Dimension 2')\n",
    "# plt.title('Book Embeddings Clustered')\n",
    "# plt.show()"
   ],
   "metadata": {
    "collapsed": false,
    "ExecuteTime": {
     "end_time": "2024-03-14T11:51:10.288236Z",
     "start_time": "2024-03-14T11:51:10.280738Z"
    }
   }
  },
  {
   "cell_type": "code",
   "execution_count": null,
   "outputs": [],
   "source": [],
   "metadata": {
    "collapsed": false
   }
  }
 ],
 "metadata": {
  "kernelspec": {
   "display_name": "Python 3",
   "language": "python",
   "name": "python3"
  },
  "language_info": {
   "codemirror_mode": {
    "name": "ipython",
    "version": 2
   },
   "file_extension": ".py",
   "mimetype": "text/x-python",
   "name": "python",
   "nbconvert_exporter": "python",
   "pygments_lexer": "ipython2",
   "version": "2.7.6"
  }
 },
 "nbformat": 4,
 "nbformat_minor": 0
}
